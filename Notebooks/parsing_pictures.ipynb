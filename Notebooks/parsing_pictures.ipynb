{
 "cells": [
  {
   "cell_type": "markdown",
   "metadata": {
    "colab": {
     "base_uri": "https://localhost:8080/"
    },
    "id": "zx_iUBinpxug",
    "outputId": "3835f417-db5a-4167-fed3-ae9fd1bf07d2"
   },
   "source": [
    "# Парсинг с сайта https://allpainters.ru/: название художника, названия картины и изображение"
   ]
  },
  {
   "cell_type": "code",
   "execution_count": null,
   "metadata": {},
   "outputs": [],
   "source": [
    "# Импорт необходимых библиотек\n",
    "\n",
    "import csv\n",
    "import os\n",
    "import requests\n",
    "from urllib.parse import urljoin\n",
    "from bs4 import BeautifulSoup\n",
    "import urllib.request"
   ]
  },
  {
   "cell_type": "code",
   "execution_count": null,
   "metadata": {},
   "outputs": [],
   "source": [
    "# Устанавливаем ссылку на страницу, с которой будем парсить данные\n",
    "base_url = 'https://allpainters.ru/mikelandzhelo-01.html' #Поменять ссылку\n",
    "\n",
    "# Устанавливаем папку, в которую будут сохраняться изображения\n",
    "save_folder = '/content/drive/MyDrive/парсинг художников/Микеланджело' #Поменять папку\n",
    "os.makedirs(save_folder, exist_ok=True)\n",
    "\n",
    "# Получаем HTML-код страницы\n",
    "response = requests.get(base_url)\n",
    "html = response.text\n",
    "\n",
    "# Создаем объект BeautifulSoup для работы с HTML-кодом\n",
    "soup = BeautifulSoup(html, 'html.parser')\n",
    "\n",
    "# Находим все блоки с тегом div и классом tag_block\n",
    "tag_blocks = soup.find_all('div', class_='tag_block')"
   ]
  },
  {
   "cell_type": "code",
   "execution_count": null,
   "metadata": {},
   "outputs": [],
   "source": [
    "# Создаем списки для хранения заголовков, ссылок на изображения и имен файлов изображений\n",
    "titles = []\n",
    "image_urls = []\n",
    "image_filenames = []\n",
    "\n",
    "# Проходимся по каждому блоку tag_block и получаем заголовок и ссылку на страницу с изображением\n",
    "for tag_block in tag_blocks:\n",
    "    title = tag_block.find('img')['title']\n",
    "    titles.append(title)\n",
    "    image_page_url = tag_block.find('a')['href']\n",
    "    \n",
    "    # Получаем полную ссылку на страницу с изображением и получаем HTML-код этой страницы\n",
    "    full_image_page_url = urljoin(base_url, image_page_url)\n",
    "    image_page_response = requests.get(full_image_page_url)\n",
    "    image_page_html = image_page_response.text\n",
    "    \n",
    "    # Создаем объект BeautifulSoup для работы с HTML-кодом страницы с изображением\n",
    "    image_page_soup = BeautifulSoup(image_page_html, 'html.parser')\n",
    "    \n",
    "    # Находим тег img с классом alignnone и получаем ссылку на изображение\n",
    "    image_element = image_page_soup.find('img', class_='alignnone')\n",
    "    image_url = urljoin('https://allpainters.ru', image_element['src'])\n",
    "    image_urls.append(image_url)\n",
    "\n",
    "    # Получаем имя файла изображения и сохраняем его в указанную папку\n",
    "    image_filename = os.path.basename(image_url)\n",
    "    save_path = os.path.join(save_folder, image_filename)\n",
    "    urllib.request.urlretrieve(image_url, save_path)\n",
    "\n",
    "    # Добавляем имя файла изображения в список\n",
    "    image_filenames.append(image_filename)"
   ]
  },
  {
   "cell_type": "code",
   "execution_count": null,
   "metadata": {},
   "outputs": [],
   "source": [
    "# Создаем CSV-файл и записываем в него данные\n",
    "\n",
    "csv_file = '/content/drive/MyDrive/парсинг художников/Микеланджело.csv' # Указываем имя CSV-файла\n",
    "with open(csv_file, 'w', newline='', encoding='utf-8') as file: # Открываем файл для записи\n",
    "    writer = csv.writer(file) # Создаем объект writer для записи данных в CSV-файл\n",
    "    writer.writerow(['Название', 'Картинка', 'Название файла']) # Записываем заголовки столбцов\n",
    "    for i in range(len(titles)):\n",
    "        writer.writerow([titles[i], image_urls[i], image_filenames[i]]) # Записываем данные в CSV-файл"
   ]
  }
 ],
 "metadata": {
  "accelerator": "GPU",
  "colab": {
   "gpuType": "T4",
   "provenance": []
  },
  "kernelspec": {
   "display_name": "Python 3 (ipykernel)",
   "language": "python",
   "name": "python3"
  },
  "language_info": {
   "codemirror_mode": {
    "name": "ipython",
    "version": 3
   },
   "file_extension": ".py",
   "mimetype": "text/x-python",
   "name": "python",
   "nbconvert_exporter": "python",
   "pygments_lexer": "ipython3",
   "version": "3.10.9"
  }
 },
 "nbformat": 4,
 "nbformat_minor": 4
}
